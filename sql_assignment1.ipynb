{
  "nbformat": 4,
  "nbformat_minor": 0,
  "metadata": {
    "colab": {
      "provenance": []
    },
    "kernelspec": {
      "name": "python3",
      "display_name": "Python 3"
    },
    "language_info": {
      "name": "python"
    }
  },
  "cells": [
    {
      "cell_type": "markdown",
      "source": [],
      "metadata": {
        "id": "u-uWVwO2yQSM"
      }
    },
    {
      "cell_type": "markdown",
      "source": [
        "Q1. What is a database? Differentiate between SQL and NoSQL databases.\n",
        "ans = A database is a structured collection of data that is stored electronically and organized to make it easier to manage and access. Databases can store any type of data, including numbers, words, images, videos, and files.\n",
        "SQL databases are relational, and NoSQL databases are non-relational. SQL databases use structured query language (SQL) and have a predefined schema. NoSQL databases have dynamic schemas for unstructured data. SQL databases are vertically scalable, while NoSQL databases are horizontally scalable."
      ],
      "metadata": {
        "id": "SIyFiuRgySDz"
      }
    },
    {
      "cell_type": "code",
      "source": [],
      "metadata": {
        "id": "ZEryMCSGyUS9"
      },
      "execution_count": null,
      "outputs": []
    },
    {
      "cell_type": "markdown",
      "source": [
        "Q2.What is DDL? Explain why CREATE, DROP, ALTER, and TRUNCATE are used with an example.\n",
        "ans= DDL stands for \"Data Definition Language,\" which is a set of commands used in a database management system to define and manage the structure of database objects like tables, indexes, and views, essentially allowing you to create, modify, or delete these objects within a database; key DDL commands include \"CREATE\" to create new objects, \"DROP\" to delete existing objects, \"ALTER\" to modify existing objects, and \"TRUNCATE\" to remove all data from a table while keeping its structure intact"
      ],
      "metadata": {
        "id": "XK1F1ktky3Mb"
      }
    },
    {
      "cell_type": "markdown",
      "source": [],
      "metadata": {
        "id": "1E8fhgM_-SQH"
      }
    },
    {
      "cell_type": "markdown",
      "source": [
        "Q3. What is DML? Explain INSERT, UPDATE, and DELETE with an example.\n",
        "ans = DML stands for \"Data Manipulation Language,\" which is a subset of SQL used to add, modify, and delete data within a database table; the primary DML commands are \"INSERT\" to add new data, \"UPDATE\" to modify existing data, \"DELETE\" to remove data, and \"TRUNCATE\" to completely empty a table"
      ],
      "metadata": {
        "id": "O12RgWHu-Vhe"
      }
    },
    {
      "cell_type": "markdown",
      "source": [],
      "metadata": {
        "id": "GLKzBoHj-xFm"
      }
    },
    {
      "cell_type": "markdown",
      "source": [
        "Q4. What is DQL? Explain SELECT with an example.\n",
        "ans= DQL stands for \"Data Query Language,\" which is a part of SQL (Structured Query Language) used to retrieve data from a database by executing queries; the primary command within DQL is \"SELECT,\" allowing you to specify which columns and rows of data you want to extract from a table"
      ],
      "metadata": {
        "id": "6Fd-NAn9-ybt"
      }
    },
    {
      "cell_type": "code",
      "source": [],
      "metadata": {
        "id": "vE1yeNJe_FGx"
      },
      "execution_count": null,
      "outputs": []
    },
    {
      "cell_type": "markdown",
      "source": [
        "Q5.Explain Primary Key and Foreign Key.\n",
        "ans= A primary key and a foreign key are both important database objects that establish relationships between tables and control data\n",
        "Primary key\n",
        "A column or set of columns that uniquely identifies each row in a table. Relational databases only allow one row with a given primary key value in a table.\n",
        "Foreign key\n",
        "A column or set of columns that references the primary key of another table. When a foreign key matches a primary key, it establishes a relationship between the data in the two tables"
      ],
      "metadata": {
        "id": "djQeynXn_TIc"
      }
    },
    {
      "cell_type": "markdown",
      "source": [
        "Q6. Write a python code to connect MySQL to python. Explain the cursor() and execute() method.\n",
        "ans = To connect Python to a MySQL database, we can use the mysql-connector-python package, which provides a straightforward way to interact with MySQL databases.\n",
        "first we installed the package using\n",
        "pip install mysql-connector-python\n",
        "then\n",
        "import mysql.connector\n",
        "# Establish a connection to the database\n",
        "connection = mysql.connector.connect(\n",
        "    host='localhost',        # Database host (e.g., localhost)\n",
        "    user='your_username',    # Your MySQL username\n",
        "    password='your_password', # Your MySQL password\n",
        "    database='your_database'  # Name of the database to connect to\n",
        ")\n",
        "\n",
        "if connection.is_connected():\n",
        "    print(\"Connection successful!\")\n",
        "else:\n",
        "    print(\"Connection failed!\")\n",
        "\n",
        "The cursor() Method\n",
        "The cursor() method is used to create a cursor object, which allows you to execute SQL queries and fetch results from the database. A cursor acts as a pointer that helps you navigate through the rows of a result set.\n",
        "# Create a cursor object\n",
        "cursor = connection.cursor()\n",
        "\n",
        "The execute() Method\n",
        "The execute() method is used to execute a SQL query or command. You can use it to run SELECT, INSERT, UPDATE, and DELETE statements. This method takes a SQL command as a parameter and executes it against the database.\n",
        "\n",
        "# Execute a SQL query\n",
        "cursor.execute(\"SELECT * FROM your_table\")\n",
        "\n",
        "# Fetch all results\n",
        "results = cursor.fetchall()\n",
        "for row in results:\n",
        "    print(row)"
      ],
      "metadata": {
        "id": "UKC8wFLAAh7C"
      }
    },
    {
      "cell_type": "markdown",
      "source": [
        "Q7. Give the order of execution of SQL clauses in an SQL query.\n",
        "ans = In SQL, the execution of clauses in a query follows a specific logical order, which differs from the way you typically write the query.\n",
        "FROM\n",
        "Specifies the tables from which to retrieve or manipulate data. This is where the database scans the tables involved in the query.\n",
        "JOIN\n",
        "If there are any JOIN operations, they are processed next. This includes any type of join: INNER JOIN, LEFT JOIN, RIGHT JOIN, etc. It combines data from two or more tables based on a related column between them.\n",
        "WHERE\n",
        "Applies filtering conditions on the rows returned from the FROM and JOIN steps. Only the rows that satisfy the WHERE condition are passed to the next step.\n",
        "GROUP BY\n",
        "Groups the result set into subsets based on one or more columns. This is used when you want to apply aggregate functions like SUM(), COUNT(), etc., on groups of data.\n",
        "HAVING\n",
        "Filters groups of data created by GROUP BY based on a condition. It’s similar to WHERE, but it applies to groups rather than individual rows.\n",
        "SELECT\n",
        "Specifies the columns (or expressions) to retrieve from the filtered data. At this point, the data is already grouped (if applicable), and the final projection (selection) of columns is made.\n",
        "DISTINCT\n",
        "Removes duplicate rows from the result set. It’s applied after the SELECT clause has specified which columns to include.\n",
        "ORDER BY\n",
        "Sorts the result set based on one or more columns in ascending (ASC) or descending (DESC) order.\n",
        "LIMIT / OFFSET\n",
        "Limits the number of rows returned and can also specify an offset to skip a certain number of rows before starting to return the result set."
      ],
      "metadata": {
        "id": "udZrOLlPBzbx"
      }
    },
    {
      "cell_type": "markdown",
      "source": [],
      "metadata": {
        "id": "2ucGLtrQAeLb"
      }
    }
  ]
}